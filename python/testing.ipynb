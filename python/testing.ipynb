{
 "cells": [
  {
   "cell_type": "code",
   "execution_count": null,
   "metadata": {},
   "outputs": [],
   "source": [
    "from outlines import models, generate, samplers\n",
    "from torch import bfloat16\n",
    "\n",
    "checkpoint = \"HuggingFaceTB/SmolLM2-1.7B-Instruct\"\n",
    "model = models.transformers(checkpoint, device='cuda', model_kwargs={\"torch_dtype\":bfloat16})\n",
    "sampler = samplers.MultinomialSampler(temperature=0.5)\n",
    "\n",
    "prompt = \"\"\"You are an AI writing assistant. The bank is behind the fire station.\n",
    "Question: Where is the bank?\n",
    "Reply:\n",
    "\"\"\""
   ]
  },
  {
   "cell_type": "code",
   "execution_count": 4,
   "metadata": {},
   "outputs": [
    {
     "name": "stdout",
     "output_type": "stream",
     "text": [
      "The bank is located behind the fire station.\n"
     ]
    }
   ],
   "source": [
    "generator = generate.text(model, sampler)\n",
    "answer = generator(prompt, max_tokens=20, stop_at=['.', '!'])\n",
    "print(answer)"
   ]
  }
 ],
 "metadata": {
  "kernelspec": {
   "display_name": "nohpac",
   "language": "python",
   "name": "python3"
  },
  "language_info": {
   "codemirror_mode": {
    "name": "ipython",
    "version": 3
   },
   "file_extension": ".py",
   "mimetype": "text/x-python",
   "name": "python",
   "nbconvert_exporter": "python",
   "pygments_lexer": "ipython3",
   "version": "3.11.10"
  }
 },
 "nbformat": 4,
 "nbformat_minor": 2
}
