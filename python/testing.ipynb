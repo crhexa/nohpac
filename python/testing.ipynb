{
 "cells": [
  {
   "cell_type": "code",
   "execution_count": 1,
   "metadata": {},
   "outputs": [
    {
     "data": {
      "application/vnd.jupyter.widget-view+json": {
       "model_id": "87df33fbf5c847b0a37616a664c82b1a",
       "version_major": 2,
       "version_minor": 0
      },
      "text/plain": [
       "Loading checkpoint shards:   0%|          | 0/2 [00:00<?, ?it/s]"
      ]
     },
     "metadata": {},
     "output_type": "display_data"
    }
   ],
   "source": [
    "from outlines import models, generate, samplers\n",
    "from transformers import BitsAndBytesConfig\n",
    "\n",
    "qt8 = BitsAndBytesConfig(load_in_8bit=True)\n",
    "\n",
    "checkpoint = \"microsoft/Phi-3.5-mini-instruct\"\n",
    "model = models.transformers(checkpoint, device='cuda', model_kwargs={\"quantization_config\":qt8})\n",
    "sampler = samplers.MultinomialSampler(temperature=0.5)\n",
    "\n",
    "prompt = \"\"\"You are an AI writing assistant. The bank is behind the fire station.\n",
    "Question: Where is the bank?\n",
    "Reply:\n",
    "\"\"\""
   ]
  },
  {
   "cell_type": "code",
   "execution_count": 2,
   "metadata": {},
   "outputs": [
    {
     "name": "stderr",
     "output_type": "stream",
     "text": [
      "We detected that you are passing `past_key_values` as a tuple of tuples. This is deprecated and will be removed in v4.47. Please convert your cache or use an appropriate `Cache` class (https://huggingface.co/docs/transformers/kv_cache#legacy-cache-format)\n"
     ]
    },
    {
     "name": "stdout",
     "output_type": "stream",
     "text": [
      "The bank is behind the fire station.\n"
     ]
    }
   ],
   "source": [
    "generator = generate.text(model, sampler)\n",
    "answer = generator(prompt, max_tokens=20, stop_at=['.', '!'])\n",
    "print(answer)"
   ]
  },
  {
   "cell_type": "code",
   "execution_count": 6,
   "metadata": {},
   "outputs": [
    {
     "name": "stdout",
     "output_type": "stream",
     "text": [
      "4.02 GB\n"
     ]
    }
   ],
   "source": [
    "print(f'{model.model.get_memory_footprint()/1e9:.2f} GB')"
   ]
  }
 ],
 "metadata": {
  "kernelspec": {
   "display_name": "nohpac",
   "language": "python",
   "name": "python3"
  },
  "language_info": {
   "codemirror_mode": {
    "name": "ipython",
    "version": 3
   },
   "file_extension": ".py",
   "mimetype": "text/x-python",
   "name": "python",
   "nbconvert_exporter": "python",
   "pygments_lexer": "ipython3",
   "version": "3.11.10"
  }
 },
 "nbformat": 4,
 "nbformat_minor": 2
}
